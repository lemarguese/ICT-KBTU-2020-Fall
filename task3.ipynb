{
 "cells": [
  {
   "cell_type": "code",
   "execution_count": 13,
   "metadata": {},
   "outputs": [
    {
     "name": "stdout",
     "output_type": "stream",
     "text": [
      "CODEFORCES\n",
      ".c.d.f.r.c.s\n"
     ]
    }
   ],
   "source": [
    "#1\n",
    "n = input().lower()\n",
    "ans = ''\n",
    "for i in range(len(n)):\n",
    "    if (n[i] != \"a\" and n[i] != \"e\" and n[i] != \"i\" and n[i] != \"o\" and n[i] != \"u\" and n[i] != \"y\"):\n",
    "        ans += '.' + n[i]\n",
    "    else:\n",
    "        continue\n",
    "print(ans.lower())"
   ]
  },
  {
   "cell_type": "code",
   "execution_count": 34,
   "metadata": {},
   "outputs": [
    {
     "name": "stdout",
     "output_type": "stream",
     "text": [
      "1+4+2+5+4+5\n",
      "1+2+4+4+5+5\n"
     ]
    }
   ],
   "source": [
    "#2\n",
    "n = input()\n",
    "answer = list()\n",
    "plus = \"+\"\n",
    "for i in range(len(n)):\n",
    "    if (n[i] != \"+\"):\n",
    "        answer.append(n[i])\n",
    "answer.sort()\n",
    "print(plus.join(answer))"
   ]
  },
  {
   "cell_type": "code",
   "execution_count": 33,
   "metadata": {},
   "outputs": [
    {
     "name": "stdout",
     "output_type": "stream",
     "text": [
      "konjac\n",
      "Konjac\n"
     ]
    }
   ],
   "source": [
    "#3\n",
    "n = input()\n",
    "print(n[0].upper() + n[1::])"
   ]
  },
  {
   "cell_type": "code",
   "execution_count": 26,
   "metadata": {},
   "outputs": [
    {
     "name": "stdout",
     "output_type": "stream",
     "text": [
      "010101010101101001111101010100000001\n",
      "7\n",
      "YES\n"
     ]
    }
   ],
   "source": [
    "#4\n",
    "n = input()\n",
    "count = 1\n",
    "ok = False\n",
    "for i in range(0, len(n)):\n",
    "    if (count < 7):\n",
    "        if (n[i] == n[i + 1]):\n",
    "            count += 1\n",
    "        else:\n",
    "            count = 1\n",
    "    else:\n",
    "        ok = True\n",
    "        break\n",
    "# print(count)\n",
    "if (ok):\n",
    "    print(\"YES\")\n",
    "else:\n",
    "    print(\"NO\")"
   ]
  },
  {
   "cell_type": "code",
   "execution_count": 35,
   "metadata": {},
   "outputs": [
    {
     "name": "stdout",
     "output_type": "stream",
     "text": [
      "xiaodao\n",
      "IGNORE HIM!\n"
     ]
    }
   ],
   "source": [
    "#5\n",
    "a = set()\n",
    "n = input()\n",
    "for i in range(len(n)):\n",
    "    a.add(n[i])\n",
    "if (len(a)%2 == 0):\n",
    "    print(\"CHAT WITH HER!\")\n",
    "else:\n",
    "    print(\"IGNORE HIM!\")"
   ]
  },
  {
   "cell_type": "code",
   "execution_count": 37,
   "metadata": {},
   "outputs": [
    {
     "name": "stdout",
     "output_type": "stream",
     "text": [
      "MaTr\n",
      "matr\n"
     ]
    }
   ],
   "source": [
    "#6\n",
    "n = input()\n",
    "upper = 0\n",
    "lower = 0\n",
    "for i in range(len(n)):\n",
    "    if (65 <= ord(n[i]) <= 90):\n",
    "        upper += 1\n",
    "    else:\n",
    "        lower += 1\n",
    "if (lower < upper):\n",
    "    print(n.upper())\n",
    "else:\n",
    "    print(n.lower())"
   ]
  },
  {
   "cell_type": "code",
   "execution_count": 39,
   "metadata": {},
   "outputs": [
    {
     "name": "stdout",
     "output_type": "stream",
     "text": [
      "TheQuickBrownFoxJumpsOverTheLazyDog\n",
      "YES\n"
     ]
    }
   ],
   "source": [
    "#7\n",
    "n = input()\n",
    "s = set()\n",
    "for i in range(len(n)):\n",
    "    if (65 <= ord(n[i]) <= 90 or 97 <= ord(n[i]) <= 122):\n",
    "        s.add(n[i].lower())\n",
    "if (len(s) == 26):\n",
    "    print(\"YES\")\n",
    "else:\n",
    "    print(\"NO\")"
   ]
  },
  {
   "cell_type": "code",
   "execution_count": 41,
   "metadata": {},
   "outputs": [
    {
     "name": "stdout",
     "output_type": "stream",
     "text": [
      "code\n",
      "edoe\n",
      "NO\n"
     ]
    }
   ],
   "source": [
    "#8\n",
    "n = input()\n",
    "k = input()\n",
    "if (n[::-1] == k):\n",
    "    print(\"YES\")\n",
    "else:\n",
    "    print(\"NO\")"
   ]
  },
  {
   "cell_type": "code",
   "execution_count": 42,
   "metadata": {},
   "outputs": [
    {
     "name": "stdout",
     "output_type": "stream",
     "text": [
      "DADAD\n",
      "Danik\n"
     ]
    }
   ],
   "source": [
    "#9\n",
    "n = input()\n",
    "danik = 0\n",
    "anton = 0\n",
    "for i in range(len(n)):\n",
    "    if (n[i] == \"A\"):\n",
    "        anton += 1\n",
    "    else:\n",
    "        danik += 1\n",
    "if (danik < anton):\n",
    "    print(\"Anton\")\n",
    "elif (danik == anton):\n",
    "    print(\"Friendship\")\n",
    "else:\n",
    "    print(\"Danik\")"
   ]
  },
  {
   "cell_type": "code",
   "execution_count": 44,
   "metadata": {},
   "outputs": [
    {
     "name": "stdout",
     "output_type": "stream",
     "text": [
      "Lock\n",
      "Lock\n"
     ]
    }
   ],
   "source": [
    "#10\n",
    "n = input()\n",
    "print(n[0].upper() + n[1::].lower())"
   ]
  },
  {
   "cell_type": "code",
   "execution_count": 48,
   "metadata": {},
   "outputs": [
    {
     "name": "stdout",
     "output_type": "stream",
     "text": [
      "ezor\n",
      "zero\n"
     ]
    }
   ],
   "source": [
    "#11\n",
    "z = 0\n",
    "e = 0\n",
    "r = 0\n",
    "o = 0\n",
    "n = 0\n",
    "ans = ''\n",
    "m = input()\n",
    "for i in range(len(m)):\n",
    "    if (m[i] == 'z'):\n",
    "        z += 1\n",
    "    elif (m[i] == 'e'):\n",
    "        e += 1\n",
    "    elif (m[i] == 'r'):\n",
    "        r += 1\n",
    "    elif (m[i] == 'o'):\n",
    "        o += 1\n",
    "    else:\n",
    "        n += 1\n",
    "while (o != 0 and n != 0 and e != 0):\n",
    "    ans += 'one'\n",
    "    o -= 1\n",
    "    n -= 1\n",
    "    e -= 1\n",
    "while (z != 0 and e != 0 and r != 0 and o != 0):\n",
    "    ans += 'zero'\n",
    "    z -= 1\n",
    "    e -= 1\n",
    "    r -= 1\n",
    "    o -= 1\n",
    "print(ans)"
   ]
  },
  {
   "cell_type": "code",
   "execution_count": 38,
   "metadata": {},
   "outputs": [
    {
     "name": "stdout",
     "output_type": "stream",
     "text": [
      "xxxiii\n",
      "1\n"
     ]
    }
   ],
   "source": [
    "#12\n",
    "n = input()\n",
    "count = 0\n",
    "for i in range(len(n) - 2):\n",
    "    if (n[i] == 'x' and n[i + 1] == 'x' and n[i + 2] == 'x'):\n",
    "        count += 1\n",
    "print(count)"
   ]
  }
 ],
 "metadata": {
  "kernelspec": {
   "display_name": "Python 3",
   "language": "python",
   "name": "python3"
  },
  "language_info": {
   "codemirror_mode": {
    "name": "ipython",
    "version": 3
   },
   "file_extension": ".py",
   "mimetype": "text/x-python",
   "name": "python",
   "nbconvert_exporter": "python",
   "pygments_lexer": "ipython3",
   "version": "3.8.6"
  }
 },
 "nbformat": 4,
 "nbformat_minor": 4
}
