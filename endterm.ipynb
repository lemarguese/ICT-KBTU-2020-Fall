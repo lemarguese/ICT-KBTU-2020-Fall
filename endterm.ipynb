{
 "cells": [
  {
   "cell_type": "code",
   "execution_count": 5,
   "metadata": {},
   "outputs": [
    {
     "name": "stdout",
     "output_type": "stream",
     "text": [
      "5\n",
      "13\n",
      "0\n"
     ]
    }
   ],
   "source": [
    "#1\n",
    "n = int(input())\n",
    "m = int(input())\n",
    "count = 0\n",
    "for i in range(1, n + 1):\n",
    "    for j in range(1, n + 1):\n",
    "        if m == i*j:\n",
    "            count += 1\n",
    "print(count)"
   ]
  },
  {
   "cell_type": "code",
   "execution_count": 2,
   "metadata": {},
   "outputs": [
    {
     "name": "stdout",
     "output_type": "stream",
     "text": [
      "14\n",
      "13 1\n",
      "12 2\n",
      "7 7\n",
      "3\n"
     ]
    }
   ],
   "source": [
    "#2\n",
    "n = int(input())\n",
    "i = 0\n",
    "count = 0\n",
    "while n != 1:\n",
    "    i += 1\n",
    "    n -= 1\n",
    "    if n % i == 0:\n",
    "        print(n, i)\n",
    "        count += 1\n",
    "print(count)"
   ]
  },
  {
   "cell_type": "code",
   "execution_count": 6,
   "metadata": {},
   "outputs": [
    {
     "name": "stdout",
     "output_type": "stream",
     "text": [
      "3\n",
      "3 -1 7\n",
      "-5 2 -4\n",
      "2 -1 -3\n",
      "YES\n"
     ]
    }
   ],
   "source": [
    "#3\n",
    "n = int(input())\n",
    "x1 = 0\n",
    "y1 = 0\n",
    "z1 = 0\n",
    "while (n != 0):\n",
    "    m = input().split()\n",
    "    x1 += int(m[0])\n",
    "    y1 += int(m[1])\n",
    "    z1 += int(m[2])\n",
    "    n -= 1\n",
    "if x1 == y1 == z1 == 0:\n",
    "    print(\"YES\")\n",
    "else:\n",
    "    print(\"NO\")"
   ]
  },
  {
   "cell_type": "code",
   "execution_count": 4,
   "metadata": {},
   "outputs": [
    {
     "name": "stdout",
     "output_type": "stream",
     "text": [
      "xiaodao\n",
      "IGNORE HIM!\n"
     ]
    }
   ],
   "source": [
    "#4\n",
    "n = input()\n",
    "\n",
    "if (len(set(n)) % 2 == 0):\n",
    "    print(\"CHAT WITH HER!\")\n",
    "else:\n",
    "    print(\"IGNORE HIM!\")"
   ]
  },
  {
   "cell_type": "code",
   "execution_count": 7,
   "metadata": {},
   "outputs": [
    {
     "name": "stdout",
     "output_type": "stream",
     "text": [
      "1302\n",
      "1304\n"
     ]
    }
   ],
   "source": [
    "#5\n",
    "n = input()\n",
    "if len(set(n)) == 4:\n",
    "    distInt = str(int(n) + 1)\n",
    "    while len(set(distInt)) != 4:\n",
    "        distInt = str(int(distInt) + 1)\n",
    "    print(distInt)\n",
    "else:\n",
    "    print(-1)"
   ]
  }
 ],
 "metadata": {
  "kernelspec": {
   "display_name": "Python 3",
   "language": "python",
   "name": "python3"
  },
  "language_info": {
   "codemirror_mode": {
    "name": "ipython",
    "version": 3
   },
   "file_extension": ".py",
   "mimetype": "text/x-python",
   "name": "python",
   "nbconvert_exporter": "python",
   "pygments_lexer": "ipython3",
   "version": "3.8.6"
  }
 },
 "nbformat": 4,
 "nbformat_minor": 4
}
