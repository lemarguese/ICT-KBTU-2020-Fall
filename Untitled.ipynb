{
 "cells": [
  {
   "cell_type": "code",
   "execution_count": 4,
   "metadata": {},
   "outputs": [
    {
     "name": "stdout",
     "output_type": "stream",
     "text": [
      "First x coordinate: 0\n",
      "First y coordinate: 0\n",
      "Second x coordinate: 02\n",
      "Second y coordinate: 2\n",
      "Impossible.\n"
     ]
    }
   ],
   "source": [
    "#Tour\n",
    "x1 = input('First x coordinate: ')\n",
    "y1 = input('First y coordinate: ')\n",
    "x2 = input('Second x coordinate: ')\n",
    "y2 = input('Second y coordinate: ')\n",
    "if (x1 <= 0 or y1 <= 0 or x1 > 8 or y1 > 8 or x2 <= 0 or y2 <= 0 or x2 > 8 or y2 > 8):\n",
    "    print(\"Impossible.\")\n",
    "else:    \n",
    "    ok = False\n",
    "    for i in range(8):\n",
    "        for j in range(8):\n",
    "            if (i + 1 == x1 and j + 1 == y1):\n",
    "                continue\n",
    "            elif (i + 1 == x1 or j + 1 == y1):\n",
    "                if (i + 1 == x2 and j + 1 == y2):\n",
    "                    ok = True\n",
    "                    break\n",
    "    if (ok):\n",
    "        print(\"Yes\")\n",
    "    else:\n",
    "        print(\"No\")"
   ]
  },
  {
   "cell_type": "code",
   "execution_count": 2,
   "metadata": {},
   "outputs": [
    {
     "name": "stdout",
     "output_type": "stream",
     "text": [
      "First x coordinate: 4\n",
      "First y coordinate: 6\n",
      "Second x coordinate: 4\n",
      "Second y coordinate: 5\n",
      "Yes\n"
     ]
    }
   ],
   "source": [
    "#King\n",
    "x1 = input('First x coordinate: ')\n",
    "y1 = input('First y coordinate: ')\n",
    "x2 = input('Second x coordinate: ')\n",
    "y2 = input('Second y coordinate: ')\n",
    "if (x1 <= 0 or y1 <= 0 or x1 > 8 or y1 > 8 or x2 <= 0 or y2 <= 0 or x2 > 8 or y2 > 8):\n",
    "    print(\"Impossible.\")\n",
    "else:\n",
    "    ok = False\n",
    "    for i in range(3):#4, 6\n",
    "        for j in range(3):\n",
    "            if (x1 - i + 1 <= 0 or y1 - j + 1 <= 0 or x1 - i + 1 > 8 or y1 - j + 1 > 8 or (i == 1 and j == 1)):\n",
    "                continue\n",
    "    #         print(str(x1 - i + 1) + \" \" + str(y1 - j + 1))\n",
    "            if (x1 - i + 1 == x2 and y1 - j + 1 == y2):\n",
    "                ok = True\n",
    "                break\n",
    "    if (ok):\n",
    "        print(\"Yes\")\n",
    "    else:\n",
    "        print(\"No\")"
   ]
  },
  {
   "cell_type": "code",
   "execution_count": 1,
   "metadata": {},
   "outputs": [
    {
     "name": "stdout",
     "output_type": "stream",
     "text": [
      "First x coordinate: 4\n",
      "First y coordinate: 5\n",
      "Second x coordinate: 1\n",
      "Second y coordinate: 2\n",
      "Yes\n"
     ]
    }
   ],
   "source": [
    "#Officer\n",
    "x1 = input('First x coordinate: ')\n",
    "y1 = input('First y coordinate: ')\n",
    "x2 = input('Second x coordinate: ')\n",
    "y2 = input('Second y coordinate: ')\n",
    "if (x1 <= 0 or y1 <= 0 or x1 > 8 or y1 > 8 or x2 <= 0 or y2 <= 0 or x2 > 8 or y2 > 8):\n",
    "    print(\"Impossible.\")\n",
    "else:\n",
    "    ok = False\n",
    "    for i in range(9):\n",
    "        for j in range(9):\n",
    "            if ((i == x1 and j == y1) or i == 0 or j == 0):\n",
    "                continue;\n",
    "            elif (i - j == x1 - y1 or i + j == x1 + y1):\n",
    "                if (i == x2 and j == y2):\n",
    "                    ok = True\n",
    "                    break;\n",
    "    if (ok):\n",
    "        print(\"Yes\")\n",
    "    else:\n",
    "        print(\"No\")                "
   ]
  },
  {
   "cell_type": "code",
   "execution_count": 7,
   "metadata": {},
   "outputs": [
    {
     "name": "stdout",
     "output_type": "stream",
     "text": [
      "First x coordinate: 1\n",
      "First y coordinate: 1\n",
      "Second x coordinate: 2\n",
      "Second y coordinate: 3\n",
      "No\n"
     ]
    }
   ],
   "source": [
    "#Ferzin\n",
    "x1 = input('First x coordinate: ')\n",
    "y1 = input('First y coordinate: ')\n",
    "x2 = input('Second x coordinate: ')\n",
    "y2 = input('Second y coordinate: ')\n",
    "if (x1 <= 0 or y1 <= 0 or x1 > 8 or y1 > 8 or x2 <= 0 or y2 <= 0 or x2 > 8 or y2 > 8):\n",
    "    print(\"Impossible.\")\n",
    "else:\n",
    "    ok = False\n",
    "    for i in range(9):\n",
    "        for j in range(9):\n",
    "            if ((i == x1 and j == y1) or i == 0 or j == 0):\n",
    "                continue;\n",
    "            elif (i - j == x1 - y1 or i + j == x1 + y1 or i == x1 or j == y1):\n",
    "                if (i == x1 and j == y1):\n",
    "                  ok = True\n",
    "                  break\n",
    "    if (ok):\n",
    "        print(\"Yes\")\n",
    "    else:\n",
    "        print(\"No\")"
   ]
  },
  {
   "cell_type": "code",
   "execution_count": 18,
   "metadata": {},
   "outputs": [
    {
     "name": "stdout",
     "output_type": "stream",
     "text": [
      "First x coordinate: 1\n",
      "First y coordinate: 6\n",
      "Second x coordinate: 3\n",
      "Second y coordinate: 5\n",
      "Yes\n"
     ]
    }
   ],
   "source": [
    "#Cavalier\n",
    "# import math\n",
    "x1 = input('First x coordinate: ')\n",
    "y1 = input('First y coordinate: ')\n",
    "x2 = input('Second x coordinate: ')\n",
    "y2 = input('Second y coordinate: ')\n",
    "if (x1 <= 0 or y1 <= 0 or x1 > 8 or y1 > 8 or x2 <= 0 or y2 <= 0 or x2 > 8 or y2 > 8):\n",
    "    print(\"Impossible.\")\n",
    "else:\n",
    "    ok = False\n",
    "    for i in range(9):\n",
    "        for j in range(9):\n",
    "            if ((i == x1 and j == y1) or i == 0 or j == 0):\n",
    "                continue;\n",
    "            elif ((abs(i - x1) == 2 and abs(j - y1) == 1) or (abs(i - x1) == 1 and abs(j - y1) == 2)):\n",
    "                if (i == x2 and j == y2):\n",
    "                  ok = True\n",
    "                  break\n",
    "    if (ok):\n",
    "        print(\"Yes\")\n",
    "    else:\n",
    "        print(\"No\")"
   ]
  },
  {
   "cell_type": "code",
   "execution_count": null,
   "metadata": {},
   "outputs": [],
   "source": [
    "#6\n",
    "a = input('Length of chocolate: ')\n",
    "b = input('Width of chocolate: ')\n",
    "c = input('How many pieces?')\n",
    "if (a*b < c):\n",
    "    print('No')\n",
    "else:\n",
    "    if c % a == 0 or c % b == 0:\n",
    "        print('Yes')\n",
    "    else:\n",
    "        print('No')"
   ]
  },
  {
   "cell_type": "code",
   "execution_count": 12,
   "metadata": {},
   "outputs": [
    {
     "name": "stdout",
     "output_type": "stream",
     "text": [
      "N: 23\n",
      "M: 52\n",
      "X: 43\n",
      "Y: 8\n",
      "8\n"
     ]
    }
   ],
   "source": [
    "#7\n",
    "n = input('N: ')\n",
    "m = input('M: ')\n",
    "x = input('X: ')\n",
    "y = input('Y: ')\n",
    "print(min(x, y))"
   ]
  },
  {
   "cell_type": "code",
   "execution_count": 11,
   "metadata": {},
   "outputs": [
    {
     "ename": "SyntaxError",
     "evalue": "invalid syntax (<ipython-input-11-ade14ec44895>, line 7)",
     "output_type": "error",
     "traceback": [
      "\u001b[1;36m  File \u001b[1;32m\"<ipython-input-11-ade14ec44895>\"\u001b[1;36m, line \u001b[1;32m7\u001b[0m\n\u001b[1;33m    print(ada, end = ' ')\u001b[0m\n\u001b[1;37m                   ^\u001b[0m\n\u001b[1;31mSyntaxError\u001b[0m\u001b[1;31m:\u001b[0m invalid syntax\n"
     ]
    }
   ],
   "source": [
    "#8\n",
    "ada = []\n",
    "for i in range(3):\n",
    "    a = int(input())\n",
    "    ada.append(a)\n",
    "ada.sort()\n",
    "print(ada)"
   ]
  },
  {
   "cell_type": "code",
   "execution_count": 5,
   "metadata": {},
   "outputs": [
    {
     "name": "stdout",
     "output_type": "stream",
     "text": [
      "A1: 0\n",
      "B1: 2\n",
      "C1: 3\n",
      "A2: 1\n",
      "B2: 1\n",
      "C2: 1\n",
      "Second larger.\n"
     ]
    }
   ],
   "source": [
    "#9\n",
    "a1 = input('A1: ')\n",
    "b1 = input('B1: ')\n",
    "c1 = input('C1: ')\n",
    "a2 = input('A2: ')\n",
    "b2 = input('B2: ')\n",
    "c2 = input('C2: ')\n",
    "volume1 = a1*b1*c1\n",
    "volume2 = a2*b2*c2\n",
    "if (volume1 > volume2):\n",
    "    print('First larger.')\n",
    "elif (volume1 == volume2):\n",
    "    print('Boxes are equal.')\n",
    "else:\n",
    "    print('Second larger.')"
   ]
  },
  {
   "cell_type": "code",
   "execution_count": 10,
   "metadata": {},
   "outputs": [
    {
     "name": "stdout",
     "output_type": "stream",
     "text": [
      "64\n",
      "1\n",
      "4\n",
      "9\n",
      "16\n",
      "25\n",
      "36\n",
      "49\n",
      "64\n"
     ]
    }
   ],
   "source": [
    "#10\n",
    "n = input()\n",
    "for i in range(1, n):\n",
    "    if (i*i <= n):\n",
    "        print(i*i)"
   ]
  },
  {
   "cell_type": "code",
   "execution_count": 15,
   "metadata": {},
   "outputs": [
    {
     "name": "stdout",
     "output_type": "stream",
     "text": [
      "100\n",
      "2\n"
     ]
    }
   ],
   "source": [
    "#11\n",
    "n = input()\n",
    "minv = float(\"inf\")\n",
    "for i in range(2, n):\n",
    "    if (n%i == 0):\n",
    "        if minv > i:\n",
    "            minv = i\n",
    "print (minv)"
   ]
  },
  {
   "cell_type": "code",
   "execution_count": 4,
   "metadata": {},
   "outputs": [
    {
     "name": "stdout",
     "output_type": "stream",
     "text": [
      "46\n",
      "2\n",
      "4\n",
      "8\n",
      "16\n",
      "32\n"
     ]
    }
   ],
   "source": [
    "#12\n",
    "n = input()\n",
    "sum = 1\n",
    "for i in range(n):\n",
    "    sum = sum*2\n",
    "    if (sum <= n):\n",
    "        print(sum)"
   ]
  },
  {
   "cell_type": "code",
   "execution_count": 5,
   "metadata": {},
   "outputs": [
    {
     "name": "stdout",
     "output_type": "stream",
     "text": [
      "2\n",
      "3\n",
      "9\n",
      "0\n",
      "14\n"
     ]
    }
   ],
   "source": [
    "#13\n",
    "sum = 0\n",
    "n = 1\n",
    "while n != 0:\n",
    "    n = input()\n",
    "    sum = sum + n\n",
    "print (sum)"
   ]
  },
  {
   "cell_type": "code",
   "execution_count": 14,
   "metadata": {},
   "outputs": [
    {
     "name": "stdout",
     "output_type": "stream",
     "text": [
      "1\n",
      "3\n",
      "3\n",
      "1\n",
      "0\n",
      "2\n"
     ]
    }
   ],
   "source": [
    "#14\n",
    "n = 1\n",
    "count = 1\n",
    "maxvalue = float('-inf')\n",
    "while n != 0:\n",
    "    n = int(input())\n",
    "    if n == 0:\n",
    "        break\n",
    "    if maxvalue < n:\n",
    "        maxvalue = n\n",
    "        count = 1\n",
    "    elif maxvalue == n:\n",
    "        count = count + 1\n",
    "print(count)"
   ]
  },
  {
   "cell_type": "code",
   "execution_count": 82,
   "metadata": {},
   "outputs": [
    {
     "name": "stdout",
     "output_type": "stream",
     "text": [
      "34\n",
      "9\n"
     ]
    }
   ],
   "source": [
    "#15\n",
    "n = input()\n",
    "def fib(n):\n",
    "    a = 0\n",
    "    b = 1\n",
    "    c = 0\n",
    "    ok = False\n",
    "    cnt = 2\n",
    "    while (c < n):\n",
    "        c = a + b \n",
    "#         print(c)\n",
    "        if (c == n):\n",
    "            ok = True\n",
    "            break;\n",
    "        else:\n",
    "            cnt = cnt + 1\n",
    "        a = b\n",
    "        b = c\n",
    "    if (ok):\n",
    "        print(cnt)\n",
    "    else:\n",
    "        print(\"Not a fibonacci number\")\n",
    "fib(n)"
   ]
  },
  {
   "cell_type": "code",
   "execution_count": null,
   "metadata": {},
   "outputs": [],
   "source": [
    "#16\n",
    "n = 1\n",
    "c = []\n",
    "count = 0\n",
    "\n",
    "def maxi(a, b) -> int:\n",
    "    if a < b:\n",
    "        return b\n",
    "    elif a > b:\n",
    "        return a\n",
    "    else:\n",
    "        return 0\n",
    "\n",
    "while n != 0:\n",
    "    n = int(input())\n",
    "    if n == 0:\n",
    "        break\n",
    "    c.append(n)\n",
    "for i in range(1, len(c) - 2):\n",
    "    if maxi(c[i - 1], c[i]) == maxi(c[i], c[i + 1]):\n",
    "        count = count + 1\n",
    "print(count)"
   ]
  },
  {
   "cell_type": "code",
   "execution_count": null,
   "metadata": {},
   "outputs": [],
   "source": [
    "#17\n",
    "a = set() #unique elements\n",
    "n = input('Size: ')\n",
    "b = input('Elements: ').split()\n",
    "for i in range(len(b)):\n",
    "    a.add(b[i])\n",
    "print(len(a)) #size of set"
   ]
  },
  {
   "cell_type": "code",
   "execution_count": 83,
   "metadata": {},
   "outputs": [
    {
     "name": "stdout",
     "output_type": "stream",
     "text": [
      "5\n",
      "1 2 3 4 5\n"
     ]
    },
    {
     "ename": "SyntaxError",
     "evalue": "invalid syntax (<string>, line 1)",
     "output_type": "error",
     "traceback": [
      "\u001b[1;36m  File \u001b[1;32m\"<string>\"\u001b[1;36m, line \u001b[1;32m1\u001b[0m\n\u001b[1;33m    1 2 3 4 5\u001b[0m\n\u001b[1;37m      ^\u001b[0m\n\u001b[1;31mSyntaxError\u001b[0m\u001b[1;31m:\u001b[0m invalid syntax\n"
     ]
    }
   ],
   "source": [
    "#18\n",
    "n = input()\n",
    "q = input().split()\n",
    "c = q[0] #swap algorithm\n",
    "q[0] = q[len(q) - 1]\n",
    "q[len(q) - 1] = c\n",
    "for i in range(len(q)):\n",
    "    print(q[i], end =' ')"
   ]
  },
  {
   "cell_type": "code",
   "execution_count": 13,
   "metadata": {},
   "outputs": [
    {
     "name": "stdout",
     "output_type": "stream",
     "text": [
      "Size: 4\n",
      "1 2 3 4\n"
     ]
    },
    {
     "ename": "SyntaxError",
     "evalue": "invalid syntax (<string>, line 1)",
     "output_type": "error",
     "traceback": [
      "\u001b[1;36m  File \u001b[1;32m\"<string>\"\u001b[1;36m, line \u001b[1;32m1\u001b[0m\n\u001b[1;33m    1 2 3 4\u001b[0m\n\u001b[1;37m      ^\u001b[0m\n\u001b[1;31mSyntaxError\u001b[0m\u001b[1;31m:\u001b[0m invalid syntax\n"
     ]
    }
   ],
   "source": [
    "#19\n",
    "n = input('Size: ')\n",
    "a = input().split()\n",
    "list_a = list(a)\n",
    "count = 1\n",
    "counter = 0\n",
    "c = list_a[0]\n",
    "list_a.sort()\n",
    "for i in range(1, len(list_a)):\n",
    "    if list_a[i] == c:\n",
    "        count = count + 1\n",
    "    else:\n",
    "        count = 1\n",
    "    if count == 2:\n",
    "        counter = counter + 1\n",
    "    c = list_a[i]\n",
    "print(counter)"
   ]
  },
  {
   "cell_type": "code",
   "execution_count": 2,
   "metadata": {},
   "outputs": [
    {
     "name": "stdout",
     "output_type": "stream",
     "text": [
      "10 3\n"
     ]
    },
    {
     "ename": "SyntaxError",
     "evalue": "unexpected EOF while parsing (<string>, line 1)",
     "output_type": "error",
     "traceback": [
      "\u001b[1;36m  File \u001b[1;32m\"<string>\"\u001b[1;36m, line \u001b[1;32m1\u001b[0m\n\u001b[1;33m    10 3\u001b[0m\n\u001b[1;37m       ^\u001b[0m\n\u001b[1;31mSyntaxError\u001b[0m\u001b[1;31m:\u001b[0m unexpected EOF while parsing\n"
     ]
    }
   ],
   "source": [
    "#20\n",
    "n, k = map(int, input().split())\n",
    "cnt = 0\n",
    "res = ''\n",
    "for i in range(n):\n",
    "    res = res + 'I'\n",
    "res_list = list(res)\n",
    "while (k > 0):\n",
    "    a, b = map(int, input().split())\n",
    "    if (a <= n and b <= n and a <= b):\n",
    "        for i in range(a - 1, b):\n",
    "            res_list[i] = '.'\n",
    "    else:\n",
    "        print(\"Not possible\")\n",
    "        quit()\n",
    "    k = k - 1\n",
    "res = ''.join(res_list)\n",
    "for i in range(len(res)):\n",
    "    print(res[i], end = ' ')"
   ]
  },
  {
   "cell_type": "code",
   "execution_count": null,
   "metadata": {},
   "outputs": [],
   "source": []
  }
 ],
 "metadata": {
  "kernelspec": {
   "display_name": "Python 2",
   "language": "python",
   "name": "python2"
  },
  "language_info": {
   "codemirror_mode": {
    "name": "ipython",
    "version": 2
   },
   "file_extension": ".py",
   "mimetype": "text/x-python",
   "name": "python",
   "nbconvert_exporter": "python",
   "pygments_lexer": "ipython2",
   "version": "2.7.17"
  }
 },
 "nbformat": 4,
 "nbformat_minor": 2
}
